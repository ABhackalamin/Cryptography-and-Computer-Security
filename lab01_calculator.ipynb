{
 "cells": [
  {
   "cell_type": "markdown",
   "metadata": {},
   "source": [
    "Lab01 calculator "
   ]
  },
  {
   "cell_type": "code",
   "execution_count": 3,
   "metadata": {},
   "outputs": [
    {
     "name": "stdout",
     "output_type": "stream",
     "text": [
      "Expression must end with '='.\n"
     ]
    }
   ],
   "source": [
    "def simple_calculator():\n",
    "    expression = input(\"Enter expression (e.g., 4*8=): \").strip()\n",
    "\n",
    "    # Check if input ends with '='\n",
    "    if expression.endswith('='):\n",
    "        expression = expression[:-1]  # remove the '=' sign\n",
    "        try:\n",
    "            result = eval(expression)\n",
    "            print(f\"{expression}={result}\")\n",
    "        except Exception as e:\n",
    "            print(f\"Error evaluating expression: {e}\")\n",
    "    else:\n",
    "        print(\"Expression must end with '='.\")\n",
    "\n",
    "# Run the calculator\n",
    "simple_calculator()\n",
    "\n"
   ]
  },
  {
   "cell_type": "markdown",
   "metadata": {},
   "source": [
    "Lab02"
   ]
  },
  {
   "cell_type": "code",
   "execution_count": 6,
   "metadata": {},
   "outputs": [
    {
     "name": "stdout",
     "output_type": "stream",
     "text": [
      "Output: 13 13 7\n"
     ]
    }
   ],
   "source": [
    "def pairwise_operation():\n",
    "    # Take the full input line\n",
    "    input_str = input(\"Enter numbers followed by an operator (e.g., 4 5 7 8 20 40 +): \").strip()\n",
    "\n",
    "    # Split into parts\n",
    "    tokens = input_str.split()\n",
    "\n",
    "    if len(tokens) < 3:\n",
    "        print(\"Not enough input.\")\n",
    "        return\n",
    "\n",
    "    operator = tokens[-1]  # operator is the last item\n",
    "    numbers = list(map(int, tokens[:-1]))  # all before operator are numbers\n",
    "\n",
    "    if len(numbers) % 2 != 0:\n",
    "        print(\"Odd number of inputs; one number has no pair.\")\n",
    "        return\n",
    "\n",
    "    results = []\n",
    "    for i in range(0, len(numbers), 2):\n",
    "        a, b = numbers[i], numbers[i+1]\n",
    "\n",
    "        if operator == '+':\n",
    "            results.append(a + b)\n",
    "        elif operator == '-':\n",
    "            results.append(a - b)\n",
    "        elif operator == '*':\n",
    "            results.append(a * b)\n",
    "        elif operator == '/':\n",
    "            results.append(a / b if b != 0 else 'Error')\n",
    "        elif operator == '%':\n",
    "            results.append(a % b if b != 0 else 'Error')\n",
    "        else:\n",
    "            print(\"Unsupported operator.\")\n",
    "            return\n",
    "\n",
    "    print(\"Output:\", ' '.join(str(r) for r in results))\n",
    "\n",
    "# Run the function\n",
    "pairwise_operation()\n"
   ]
  },
  {
   "cell_type": "markdown",
   "metadata": {},
   "source": [
    "lab03"
   ]
  },
  {
   "cell_type": "code",
   "execution_count": 7,
   "metadata": {},
   "outputs": [
    {
     "name": "stdout",
     "output_type": "stream",
     "text": [
      "madam is a palindrome.\n"
     ]
    }
   ],
   "source": [
    "def check_palindrome():\n",
    "    user_input = input(\"Enter a number or string: \").strip()\n",
    "\n",
    "    # Normalize input (optional: lowercase for case-insensitive check)\n",
    "    normalized = user_input.lower()\n",
    "\n",
    "    # Check if it is a palindrome\n",
    "    if normalized == normalized[::-1]:\n",
    "        print(f\"{user_input} is a palindrome.\")\n",
    "    else:\n",
    "        print(f\"{user_input} is not a palindrome.\")\n",
    "\n",
    "# Run the function\n",
    "check_palindrome()\n"
   ]
  },
  {
   "cell_type": "markdown",
   "metadata": {},
   "source": [
    "lab05"
   ]
  },
  {
   "cell_type": "code",
   "execution_count": 8,
   "metadata": {},
   "outputs": [
    {
     "name": "stdout",
     "output_type": "stream",
     "text": [
      "Factorial of 5 using for loop: 120\n",
      "Factorial of 5 using while loop: 120\n",
      "✅ Both methods give the same result.\n"
     ]
    }
   ],
   "source": [
    "def factorial_for_loop(n):\n",
    "    fact = 1\n",
    "    for i in range(1, n + 1):\n",
    "        fact *= i\n",
    "    return fact\n",
    "\n",
    "def factorial_while_loop(n):\n",
    "    fact = 1\n",
    "    i = 1\n",
    "    while i <= n:\n",
    "        fact *= i\n",
    "        i += 1\n",
    "    return fact\n",
    "\n",
    "# Take input from the user\n",
    "num = int(input(\"Enter a non-negative integer: \"))\n",
    "\n",
    "if num < 0:\n",
    "    print(\"Factorial is not defined for negative numbers.\")\n",
    "else:\n",
    "    fact_for = factorial_for_loop(num)\n",
    "    fact_while = factorial_while_loop(num)\n",
    "\n",
    "    print(f\"Factorial of {num} using for loop: {fact_for}\")\n",
    "    print(f\"Factorial of {num} using while loop: {fact_while}\")\n",
    "\n",
    "    # Verifying both results\n",
    "    if fact_for == fact_while:\n",
    "        print(\"✅ Both methods give the same result.\")\n",
    "    else:\n",
    "        print(\"❌ Mismatch found between methods.\")\n"
   ]
  },
  {
   "cell_type": "markdown",
   "metadata": {},
   "source": [
    "lab06"
   ]
  },
  {
   "cell_type": "code",
   "execution_count": 9,
   "metadata": {},
   "outputs": [
    {
     "name": "stdout",
     "output_type": "stream",
     "text": [
      "\n",
      "Array elements: [65.0, 87.0]\n",
      "Sum: 152.0\n",
      "Average: 76.0\n"
     ]
    }
   ],
   "source": [
    "arr = list(map(float, input(\"Enter 2 numbers separated by space: \").split()))\n",
    "\n",
    "# Make sure exactly two numbers are entered\n",
    "if len(arr) != 2:\n",
    "    print(\"Please enter exactly two numbers.\")\n",
    "else:\n",
    "    index = 0\n",
    "    sum_of_elements = 0\n",
    "\n",
    "    # Simulated do-while loop\n",
    "    while True:\n",
    "        sum_of_elements += arr[index]\n",
    "        index += 1\n",
    "        if index >= len(arr):\n",
    "            break\n",
    "\n",
    "    average = sum_of_elements / len(arr)\n",
    "\n",
    "    print(f\"\\nArray elements: {arr}\")\n",
    "    print(f\"Sum: {sum_of_elements}\")\n",
    "    print(f\"Average: {average}\")\n"
   ]
  },
  {
   "cell_type": "markdown",
   "metadata": {},
   "source": [
    "P07"
   ]
  },
  {
   "cell_type": "code",
   "execution_count": null,
   "metadata": {},
   "outputs": [
    {
     "name": "stdout",
     "output_type": "stream",
     "text": [
      "ClassNotFound Simulation:\n",
      "Error: name 'MyUndefinedClass' is not defined\n",
      "\n",
      "---------------------------\n",
      "\n",
      "EOFError Simulation:\n",
      "Please enter something (Press Ctrl+D on Linux/Mac or Ctrl+Z on Windows to trigger EOF):\n",
      "You entered: hello\n"
     ]
    }
   ],
   "source": [
    "\n",
    "\n",
    "# Simulating ClassNotFoundException equivalent (NameError in Python)\n",
    "def simulate_class_not_found():\n",
    "    try:\n",
    "        # Trying to reference a class that is not defined\n",
    "        obj = UndefinedClass()  # This will raise NameError\n",
    "    except NameError as e:\n",
    "        print(f\"ClassNotFoundException equivalent caught: {e}\")\n",
    "\n",
    "# Simulating EOFException equivalent (EOFError in Python)\n",
    "def simulate_eof_error():\n",
    "    try:\n",
    "        # Prompting the user to input something\n",
    "        print(\"Please type something (press Ctrl+D on Linux/macOS or Ctrl+Z then Enter on Windows to simulate EOFError): \")\n",
    "        data = input()\n",
    "    except EOFError as e:\n",
    "        print(f\"EOFException equivalent caught: {e}\")\n",
    "\n",
    "# Main function\n",
    "if __name__ == \"__main__\":\n",
    "    # First simulate ClassNotFoundException equivalent\n",
    "    simulate_class_not_found()\n",
    "\n",
    "    # Then simulate EOFException equivalent\n",
    "    simulate_eof_error()\n"
   ]
  },
  {
   "cell_type": "markdown",
   "metadata": {},
   "source": [
    "P08"
   ]
  },
  {
   "cell_type": "code",
   "execution_count": 13,
   "metadata": {},
   "outputs": [
    {
     "name": "stdout",
     "output_type": "stream",
     "text": [
      "Processing complete. Check 'output.txt' for results.\n"
     ]
    }
   ],
   "source": [
    "# Function to read input, perform operations, and write output\n",
    "def process_input_file():\n",
    "    try:\n",
    "        # Read input from input.txt\n",
    "        with open(\"input.txt\", \"r\") as file:\n",
    "            content = file.read().strip()\n",
    "\n",
    "        # Remove the trailing semicolon and split into integers\n",
    "        content = content.rstrip(';')\n",
    "        numbers = list(map(int, content.split()))\n",
    "\n",
    "        output_lines = []\n",
    "        case_number = 1\n",
    "\n",
    "        # Process in pairs\n",
    "        for i in range(0, len(numbers) - 1, 2):\n",
    "            a = numbers[i]\n",
    "            b = numbers[i + 1]\n",
    "\n",
    "            add = a + b\n",
    "            sub = a - b\n",
    "            mul = a * b\n",
    "            div = a // b if b != 0 else 'undefined'  # prevent division by zero\n",
    "\n",
    "            output_line = f\"Case-{case_number}: {add} {sub} {mul} {div}\"\n",
    "            output_lines.append(output_line)\n",
    "\n",
    "            case_number += 1\n",
    "\n",
    "        # Write results to output.txt\n",
    "        with open(\"output.txt\", \"w\") as file:\n",
    "            for line in output_lines:\n",
    "                file.write(line + \"\\n\")\n",
    "\n",
    "        print(\"Processing complete. Check 'output.txt' for results.\")\n",
    "\n",
    "    except FileNotFoundError:\n",
    "        print(\"Error: 'input.txt' not found.\")\n",
    "    except ValueError:\n",
    "        print(\"Error: Please ensure 'input.txt' contains only integers.\")\n",
    "    except Exception as e:\n",
    "        print(\"An unexpected error occurred:\", e)\n",
    "\n",
    "# Run the function\n",
    "process_input_file()\n"
   ]
  },
  {
   "cell_type": "markdown",
   "metadata": {},
   "source": [
    "P11"
   ]
  },
  {
   "cell_type": "code",
   "execution_count": 1,
   "metadata": {},
   "outputs": [
    {
     "name": "stdout",
     "output_type": "stream",
     "text": [
      "COCOMO Basic Model - Mode: Embedded\n",
      "Software Size: 50 KLOC\n",
      "Estimated Effort: 393.61 person-months\n",
      "Estimated Development Time: 16.92 months\n"
     ]
    }
   ],
   "source": [
    "import math\n",
    "\n",
    "def cocomo_basic(kiloc, mode):\n",
    "    # Define parameters for each mode\n",
    "    modes = {\n",
    "        'organic':    {'a': 2.4, 'b': 1.05, 'c': 2.5, 'd': 0.38},\n",
    "        'semi-detached': {'a': 3.0, 'b': 1.12, 'c': 2.5, 'd': 0.35},\n",
    "        'embedded':   {'a': 3.6, 'b': 1.20, 'c': 2.5, 'd': 0.32}\n",
    "    }\n",
    "    \n",
    "    if mode not in modes:\n",
    "        raise ValueError(f\"Mode must be one of {list(modes.keys())}\")\n",
    "\n",
    "    params = modes[mode]\n",
    "    a, b, c, d = params['a'], params['b'], params['c'], params['d']\n",
    "\n",
    "    # Effort estimation (person-months)\n",
    "    effort = a * (kiloc ** b)\n",
    "    \n",
    "    # Development time (months)\n",
    "    time = c * (effort ** d)\n",
    "    \n",
    "    return effort, time\n",
    "\n",
    "# Example usage for industrial domain (embedded mode)\n",
    "software_size_kloc = 50  # example size in KLOC\n",
    "mode = 'embedded'\n",
    "\n",
    "effort, development_time = cocomo_basic(software_size_kloc, mode)\n",
    "\n",
    "print(f\"COCOMO Basic Model - Mode: {mode.capitalize()}\")\n",
    "print(f\"Software Size: {software_size_kloc} KLOC\")\n",
    "print(f\"Estimated Effort: {effort:.2f} person-months\")\n",
    "print(f\"Estimated Development Time: {development_time:.2f} months\")\n"
   ]
  }
 ],
 "metadata": {
  "kernelspec": {
   "display_name": "Python 3",
   "language": "python",
   "name": "python3"
  },
  "language_info": {
   "codemirror_mode": {
    "name": "ipython",
    "version": 3
   },
   "file_extension": ".py",
   "mimetype": "text/x-python",
   "name": "python",
   "nbconvert_exporter": "python",
   "pygments_lexer": "ipython3",
   "version": "3.11.7"
  }
 },
 "nbformat": 4,
 "nbformat_minor": 2
}
