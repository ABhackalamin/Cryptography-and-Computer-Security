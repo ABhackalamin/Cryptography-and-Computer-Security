{
 "cells": [
  {
   "cell_type": "code",
   "execution_count": 1,
   "metadata": {},
   "outputs": [
    {
     "name": "stdout",
     "output_type": "stream",
     "text": [
      "Plaintext: OAK\n",
      "Key: SON\n",
      "Ciphertext: ]OH\n"
     ]
    }
   ],
   "source": [
    "def char_to_bin(char):\n",
    "    # Convert a character to its corresponding binary value (5 bits, 0 to 25)\n",
    "    return format(ord(char) - ord('A'), '05b')\n",
    "\n",
    "def bin_to_char(binary):\n",
    "    # Convert a 5-bit binary value back to the corresponding character (0 to 25 -> A to Z)\n",
    "    return chr(int(binary, 2) + ord('A'))\n",
    "\n",
    "def xor_encrypt(plaintext, key):\n",
    "    # Ensure plaintext and key are the same length by repeating the key if necessary\n",
    "    plaintext = plaintext.upper().replace(\" \", \"\")\n",
    "    key = key.upper().replace(\" \", \"\")\n",
    "    \n",
    "    # Initialize the ciphertext as an empty string\n",
    "    ciphertext = \"\"\n",
    "    \n",
    "    # XOR each character in the plaintext with the corresponding character in the key\n",
    "    for i in range(len(plaintext)):\n",
    "        # Get the binary representations of the plaintext and key characters\n",
    "        plaintext_bin = char_to_bin(plaintext[i])\n",
    "        key_bin = char_to_bin(key[i % len(key)])  # Repeat the key if necessary\n",
    "        \n",
    "        # XOR the binary values\n",
    "        xor_result = ''.join(['1' if plaintext_bin[j] != key_bin[j] else '0' for j in range(5)])\n",
    "        \n",
    "        # Convert the XOR result back to a character\n",
    "        ciphertext_char = bin_to_char(xor_result)\n",
    "        ciphertext += ciphertext_char\n",
    "        \n",
    "        # Print the details\n",
    "        #print(f\"Plaintext: {plaintext[i]} (Binary: {plaintext_bin})\")\n",
    "        #print(f\"Key: {key[i % len(key)]} (Binary: {key_bin})\")\n",
    "        #print(f\"XOR Result: {xor_result} (Ciphertext: {ciphertext_char})\\n\")\n",
    "    \n",
    "    return ciphertext\n",
    "\n",
    "# Example usage:\n",
    "plaintext = \"OAK\"\n",
    "key = \"SON\"\n",
    "\n",
    "ciphertext = xor_encrypt(plaintext, key)\n",
    "print(f\"Plaintext: {plaintext}\")\n",
    "print(f\"Key: {key}\")\n",
    "print(f\"Ciphertext: {ciphertext}\")\n"
   ]
  },
  {
   "cell_type": "code",
   "execution_count": 2,
   "metadata": {},
   "outputs": [
    {
     "name": "stdout",
     "output_type": "stream",
     "text": [
      "Ciphertext: ]OH\n",
      "Key: SON\n",
      "Plaintext: OAK\n"
     ]
    }
   ],
   "source": [
    "def char_to_bin(char):\n",
    "    # Convert a character to its corresponding binary value (5 bits, 0 to 25)\n",
    "    return format(ord(char) - ord('A'), '05b')\n",
    "\n",
    "def bin_to_char(binary):\n",
    "    # Convert a 5-bit binary value back to the corresponding character (0 to 25 -> A to Z)\n",
    "    return chr(int(binary, 2) + ord('A'))\n",
    "\n",
    "def xor_decrypt(ciphertext, key):\n",
    "    # Ensure ciphertext and key are the same length by repeating the key if necessary\n",
    "    ciphertext = ciphertext.upper().replace(\" \", \"\")\n",
    "    key = key.upper().replace(\" \", \"\")\n",
    "    \n",
    "    # Initialize the plaintext as an empty string\n",
    "    plaintext = \"\"\n",
    "    \n",
    "    # XOR each character in the ciphertext with the corresponding character in the key\n",
    "    for i in range(len(ciphertext)):\n",
    "        # Get the binary representations of the ciphertext and key characters\n",
    "        ciphertext_bin = char_to_bin(ciphertext[i])\n",
    "        key_bin = char_to_bin(key[i % len(key)])  # Repeat the key if necessary\n",
    "        \n",
    "        # XOR the binary values\n",
    "        xor_result = ''.join(['1' if ciphertext_bin[j] != key_bin[j] else '0' for j in range(5)])\n",
    "        \n",
    "        # Convert the XOR result back to a character\n",
    "        plaintext_char = bin_to_char(xor_result)\n",
    "        plaintext += plaintext_char\n",
    "        \n",
    "        # Print the details\n",
    "        #print(f\"Ciphertext: {ciphertext[i]} (Binary: {ciphertext_bin})\")\n",
    "        #print(f\"Key: {key[i % len(key)]} (Binary: {key_bin})\")\n",
    "        #print(f\"XOR Result: {xor_result} (Plaintext: {plaintext_char})\\n\")\n",
    "    \n",
    "    return plaintext\n",
    "\n",
    "# Example usage:\n",
    "ciphertext = \"]OH\"\n",
    "key = \"SON\"\n",
    "\n",
    "plaintext = xor_decrypt(ciphertext, key)\n",
    "print(f\"Ciphertext: {ciphertext}\")\n",
    "print(f\"Key: {key}\")\n",
    "print(f\"Plaintext: {plaintext}\")\n"
   ]
  }
 ],
 "metadata": {
  "kernelspec": {
   "display_name": "Python 3",
   "language": "python",
   "name": "python3"
  },
  "language_info": {
   "codemirror_mode": {
    "name": "ipython",
    "version": 3
   },
   "file_extension": ".py",
   "mimetype": "text/x-python",
   "name": "python",
   "nbconvert_exporter": "python",
   "pygments_lexer": "ipython3",
   "version": "3.11.7"
  }
 },
 "nbformat": 4,
 "nbformat_minor": 2
}
