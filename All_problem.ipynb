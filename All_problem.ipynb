{
 "cells": [
  {
   "cell_type": "markdown",
   "metadata": {},
   "source": [
    "##01 Write a program to implement encryption and decryption using Caesar cipher."
   ]
  },
  {
   "cell_type": "code",
   "execution_count": 1,
   "metadata": {},
   "outputs": [
    {
     "name": "stdout",
     "output_type": "stream",
     "text": [
      "The plaintext:ALAMIN\n",
      "Encrypted message: FQFRNS\n"
     ]
    }
   ],
   "source": [
    "def caesar_cipher_encrypt(plaintext, key):\n",
    "    ciphertext = \"\"\n",
    "    \n",
    "    for char in plaintext:\n",
    "        if char.isupper():  # Check if the character is an uppercase letter\n",
    "            # Shift character by key positions and wrap around with modulo 26\n",
    "            shifted_char = chr((ord(char) - ord('A') + key) % 26 + ord('A'))\n",
    "            ciphertext += shifted_char\n",
    "        else:\n",
    "            # If the character is not an uppercase letter, keep it the same\n",
    "            ciphertext += char\n",
    "    \n",
    "    return ciphertext\n",
    "\n",
    "# Example usage:\n",
    "plaintext = \"ALAMIN\"\n",
    "key = 5\n",
    "ciphertext = caesar_cipher_encrypt(plaintext, key)\n",
    "print(f\"The plaintext:{plaintext}\")\n",
    "print(\"Encrypted message:\", ciphertext)\n"
   ]
  },
  {
   "cell_type": "markdown",
   "metadata": {},
   "source": [
    "##decryption code"
   ]
  },
  {
   "cell_type": "code",
   "execution_count": 8,
   "metadata": {},
   "outputs": [
    {
     "name": "stdout",
     "output_type": "stream",
     "text": [
      "The Ciphertext: FQFRNS\n",
      "The plaintext: ALAMIN\n"
     ]
    }
   ],
   "source": [
    "def caesar_cipher_decrypt(ciphertext, key):\n",
    "    plaintext = \"\"\n",
    "    \n",
    "    for char in ciphertext:\n",
    "        if char.isupper():  # Check if the character is an uppercase letter\n",
    "            # Shift character backwards by key positions\n",
    "            shifted_char = chr((ord(char) - ord('A') - key) % 26 + ord('A'))\n",
    "            plaintext += shifted_char\n",
    "        else:\n",
    "            # If the character is not an uppercase letter, keep it the same\n",
    "            plaintext += char\n",
    "    \n",
    "    return plaintext\n",
    "\n",
    "# Example usage:\n",
    "cipher_text = \"FQFRNS\"\n",
    "key = 5\n",
    "plaintext = caesar_cipher_decrypt(cipher_text, key)\n",
    "print(f\"The Ciphertext: {cipher_text}\")\n",
    "print(\"The plaintext:\", plaintext)\n"
   ]
  },
  {
   "cell_type": "markdown",
   "metadata": {},
   "source": [
    "##02 Write a program to implement encryption and decryption using Mono-Alphabetic cipher."
   ]
  },
  {
   "cell_type": "code",
   "execution_count": null,
   "metadata": {},
   "outputs": [
    {
     "name": "stdout",
     "output_type": "stream",
     "text": [
      "Using Key (Cipher Alphabet): QWERTYUIOPASDFGHJKLZXCVBNM\n",
      "Plaintext: A GOOD BOY ALAMIN\n",
      "Ciphertext: Q UGGR WGN QSQDOF\n"
     ]
    }
   ],
   "source": [
    "#encryption\n",
    "import string\n",
    "\n",
    "def create_mapping(key):\n",
    "    # Create a dictionary mapping each letter of the alphabet to a letter in the provided key\n",
    "    alphabet = string.ascii_uppercase\n",
    "    return {alphabet[i]: key[i] for i in range(len(alphabet))}\n",
    "\n",
    "def monoalphabetic_encrypt(plaintext, key_mapping):\n",
    "    ciphertext = \"\"\n",
    "    \n",
    "    for char in plaintext:\n",
    "        if char.isupper():  # Encrypt only uppercase letters\n",
    "            ciphertext += key_mapping.get(char, char)  # Substitute using the key mapping\n",
    "        else:\n",
    "            ciphertext += char  # Keep non-uppercase characters unchanged\n",
    "    \n",
    "    return ciphertext\n",
    "\n",
    "# User-provided key (cipher alphabet)\n",
    "key = \"QWERTYUIOPASDFGHJKLZXCVBNM\"  # Example key; replace this with your own key\n",
    "key_mapping = create_mapping(key)\n",
    "print(\"Using Key (Cipher Alphabet):\", key)\n",
    "\n",
    "# Example plaintext\n",
    "plaintext = \"A GOOD BOY ALAMIN\"\n",
    "print(f\"Plaintext: {plaintext}\")\n",
    "ciphertext = monoalphabetic_encrypt(plaintext, key_mapping)\n",
    "print(\"Ciphertext:\", ciphertext)\n"
   ]
  },
  {
   "cell_type": "code",
   "execution_count": 12,
   "metadata": {},
   "outputs": [
    {
     "name": "stdout",
     "output_type": "stream",
     "text": [
      "Using Key (Cipher Alphabet): QWERTYUIOPASDFGHJKLZXCVBNM\n",
      "Ciphertext: Q UGGR WGN QSQDOF\n",
      "Plaintext: A GOOD BOY ALAMIN\n"
     ]
    }
   ],
   "source": [
    "#deryption\n",
    "import string\n",
    "\n",
    "def create_reverse_mapping(key):\n",
    "    # Create a reverse dictionary mapping each letter in the key back to the alphabet\n",
    "    alphabet = string.ascii_uppercase\n",
    "    return {key[i]: alphabet[i] for i in range(len(alphabet))}\n",
    "\n",
    "def monoalphabetic_decrypt(ciphertext, key_mapping):\n",
    "    plaintext = \"\"\n",
    "    \n",
    "    for char in ciphertext:\n",
    "        if char.isupper():  # Decrypt only uppercase letters\n",
    "            plaintext += key_mapping.get(char, char)  # Substitute using the reverse key mapping\n",
    "        else:\n",
    "            plaintext += char  # Keep non-uppercase characters unchanged\n",
    "    \n",
    "    return plaintext\n",
    "\n",
    "# User-provided key (cipher alphabet)\n",
    "key = \"QWERTYUIOPASDFGHJKLZXCVBNM\"  # Example key; replace this with your own key\n",
    "reverse_key_mapping = create_reverse_mapping(key)\n",
    "print(\"Using Key (Cipher Alphabet):\", key)\n",
    "\n",
    "# Given ciphertext\n",
    "ciphertext = \"Q UGGR WGN QSQDOF\"\n",
    "print(f\"Ciphertext: {ciphertext}\")\n",
    "plaintext = monoalphabetic_decrypt(ciphertext, reverse_key_mapping)\n",
    "print(\"Plaintext:\", plaintext)\n"
   ]
  },
  {
   "cell_type": "markdown",
   "metadata": {},
   "source": [
    "##03 Write a program to implement encryption and decryption using Brute force attack cipher."
   ]
  },
  {
   "cell_type": "code",
   "execution_count": null,
   "metadata": {},
   "outputs": [
    {
     "name": "stdout",
     "output_type": "stream",
     "text": [
      "The plaintext: \n",
      "Encrypted message: YMNX NX FQFRNS NS GI\n",
      "Ciphertext: YMNX NX FQFRNS NS GI\n",
      "Attempting brute-force attack:\n",
      "Key 1: XLMW MW EPEQMR MR FH\n",
      "Key 2: WKLV LV DODPLQ LQ EG\n",
      "Key 3: VJKU KU CNCOKP KP DF\n",
      "Key 4: UIJT JT BMBNJO JO CE\n",
      "Key 5: THIS IS ALAMIN IN BD\n",
      "Key 6: SGHR HR ZKZLHM HM AC\n",
      "Key 7: RFGQ GQ YJYKGL GL ZB\n",
      "Key 8: QEFP FP XIXJFK FK YA\n",
      "Key 9: PDEO EO WHWIEJ EJ XZ\n",
      "Key 10: OCDN DN VGVHDI DI WY\n",
      "Key 11: NBCM CM UFUGCH CH VX\n",
      "Key 12: MABL BL TETFBG BG UW\n",
      "Key 13: LZAK AK SDSEAF AF TV\n",
      "Key 14: KYZJ ZJ RCRDZE ZE SU\n",
      "Key 15: JXYI YI QBQCYD YD RT\n",
      "Key 16: IWXH XH PAPBXC XC QS\n",
      "Key 17: HVWG WG OZOAWB WB PR\n",
      "Key 18: GUVF VF NYNZVA VA OQ\n",
      "Key 19: FTUE UE MXMYUZ UZ NP\n",
      "Key 20: ESTD TD LWLXTY TY MO\n",
      "Key 21: DRSC SC KVKWSX SX LN\n",
      "Key 22: CQRB RB JUJVRW RW KM\n",
      "Key 23: BPQA QA ITIUQV QV JL\n",
      "Key 24: AOPZ PZ HSHTPU PU IK\n",
      "Key 25: ZNOY OY GRGSOT OT HJ\n"
     ]
    }
   ],
   "source": [
    "def caesar_cipher_encrypt(plaintext, key):\n",
    "    ciphertext = \"\"\n",
    "    \n",
    "    for char in plaintext:\n",
    "        if char.isupper():  # Check if the character is an uppercase letter\n",
    "            # Shift character by key positions and wrap around with modulo 26\n",
    "            shifted_char = chr((ord(char) - ord('A') + key) % 26 + ord('A'))\n",
    "            ciphertext += shifted_char\n",
    "        else:\n",
    "            # If the character is not an uppercase letter, keep it the same\n",
    "            ciphertext += char\n",
    "    \n",
    "    return ciphertext\n",
    "\n",
    "\n",
    "def caesar_cipher_decrypt(ciphertext, key):\n",
    "    plaintext = \"\"\n",
    "    \n",
    "    for char in ciphertext:\n",
    "        if char.isupper():  # Check if the character is an uppercase letter\n",
    "            # Shift character by key positions backward and wrap around with modulo 26\n",
    "            shifted_char = chr((ord(char) - ord('A') - key) % 26 + ord('A'))\n",
    "            plaintext += shifted_char\n",
    "        else:\n",
    "            # If the character is not an uppercase letter, keep it the same\n",
    "            plaintext += char\n",
    "    \n",
    "    return plaintext\n",
    "\n",
    "# Given ciphertext\n",
    "# Example usage:\n",
    "plaintext = \"THIS IS ALAMIN IN BD\"\n",
    "key = 5\n",
    "ciphertext = caesar_cipher_encrypt(plaintext, key)\n",
    "print(f\"The plaintext:{plaintext}\")\n",
    "print(\"Encrypted message:\", ciphertext)\n",
    "\n",
    "print(\"Ciphertext:\", ciphertext)\n",
    "\n",
    "# Brute-force attack\n",
    "print(\"Attempting brute-force attack:\")\n",
    "for key in range(1, 26):\n",
    "    decrypted_text = caesar_cipher_decrypt(ciphertext, key)\n",
    "    print(f\"Key {key}: {decrypted_text}\")\n",
    "\n"
   ]
  },
  {
   "cell_type": "markdown",
   "metadata": {},
   "source": [
    "##04 Write a program to implement encryption and decryption using Hill cipher."
   ]
  },
  {
   "cell_type": "code",
   "execution_count": 10,
   "metadata": {},
   "outputs": [
    {
     "name": "stdout",
     "output_type": "stream",
     "text": [
      "Plaintext: HELLO\n",
      "Ciphertext: HIOZNX\n"
     ]
    }
   ],
   "source": [
    "#Encryption\n",
    "import numpy as np\n",
    "\n",
    "def text_to_numbers(text):\n",
    "    # Convert text to numbers (A=0, B=1, ..., Z=25)\n",
    "    return [ord(char) - ord('A') for char in text]\n",
    "\n",
    "def numbers_to_text(numbers):\n",
    "    # Convert numbers back to text (0=A, 1=B, ..., 25=Z)\n",
    "    return ''.join(chr(num + ord('A')) for num in numbers)\n",
    "\n",
    "def hill_cipher_encrypt(plaintext, key_matrix):\n",
    "    # Ensure key matrix is a numpy array\n",
    "    key_matrix = np.array(key_matrix)\n",
    "    \n",
    "    # Check if the key matrix is square\n",
    "    n = key_matrix.shape[0]\n",
    "    if key_matrix.shape[1] != n:\n",
    "        raise ValueError(\"Key matrix must be square\")\n",
    "    \n",
    "    # Ensure plaintext length is a multiple of n\n",
    "    if len(plaintext) % n != 0:\n",
    "        # Add padding 'Z' if plaintext length is not a multiple of matrix order\n",
    "        plaintext += 'Z' * (n - len(plaintext) % n)\n",
    "    \n",
    "\n",
    "    # Convert plaintext to numbers\n",
    "    plaintext_numbers = text_to_numbers(plaintext)\n",
    "    \n",
    "    ciphertext_numbers = []\n",
    "    \n",
    "    # Encrypt each block\n",
    "    for i in range(0, len(plaintext_numbers), n):\n",
    "        # Take n-length block from plaintext\n",
    "        block = plaintext_numbers[i:i + n]\n",
    "        # Convert block to a column vector\n",
    "        block_vector = np.array(block).reshape((n, 1))\n",
    "        # Multiply by key matrix and take mod 26\n",
    "        cipher_vector = np.dot(key_matrix, block_vector) % 26\n",
    "        # Flatten and add to ciphertext numbers\n",
    "        ciphertext_numbers.extend(cipher_vector.flatten())\n",
    "    \n",
    "    # Convert ciphertext numbers to text\n",
    "    return numbers_to_text(ciphertext_numbers)\n",
    "\n",
    "# Example usage:\n",
    "plaintext = \"HELLO\"\n",
    "key_matrix = [[3, 3], [2, 5]]  # Example 2x2 key matrix; modify as needed\n",
    "\n",
    "ciphertext = hill_cipher_encrypt(plaintext, key_matrix)\n",
    "print(f\"Plaintext: {plaintext}\")\n",
    "print(f\"Ciphertext: {ciphertext}\")\n",
    "\n"
   ]
  },
  {
   "cell_type": "markdown",
   "metadata": {},
   "source": []
  },
  {
   "cell_type": "code",
   "execution_count": 12,
   "metadata": {},
   "outputs": [
    {
     "name": "stdout",
     "output_type": "stream",
     "text": [
      "Ciphertext: HIOZNX\n",
      "Decrypted Plaintext: HELLOZ\n"
     ]
    }
   ],
   "source": [
    "import numpy as np\n",
    "\n",
    "# Extended Euclidean Algorithm to find the modular inverse of a number\n",
    "def mod_inverse(a, m):\n",
    "    m0, x0, x1 = m, 0, 1\n",
    "    if m == 1:\n",
    "        return 0\n",
    "    while a > 1:\n",
    "        q = a // m\n",
    "        m, a = a % m, m\n",
    "        x0, x1 = x1 - q * x0, x0\n",
    "    if x1 < 0:\n",
    "        x1 += m0\n",
    "    return x1\n",
    "\n",
    "# Function to calculate the inverse of a 2x2 matrix mod 26\n",
    "def matrix_inverse(matrix):\n",
    "    # Calculate determinant (ad - bc) mod 26\n",
    "    det = (matrix[0][0] * matrix[1][1] - matrix[0][1] * matrix[1][0]) % 26\n",
    "    det_inv = mod_inverse(det, 26)  # Find modular inverse of the determinant\n",
    "\n",
    "    # Calculate the inverse matrix\n",
    "    inv_matrix = np.array([[matrix[1][1], -matrix[0][1]],\n",
    "                            [-matrix[1][0], matrix[0][0]]]) % 26\n",
    "\n",
    "    # Multiply the inverse matrix by the determinant inverse\n",
    "    inv_matrix = (inv_matrix * det_inv) % 26\n",
    "    return inv_matrix\n",
    "\n",
    "# Function to perform Hill cipher decryption\n",
    "def hill_decrypt(ciphertext, key_matrix):\n",
    "    # Create the inverse key matrix\n",
    "    inv_key_matrix = matrix_inverse(np.array(key_matrix))\n",
    "\n",
    "    # Prepare ciphertext (pairs of letters)\n",
    "    ciphertext = ciphertext.upper().replace(\" \", \"\")\n",
    "    ciphertext_pairs = [(ord(c1) - ord('A'), ord(c2) - ord('A')) for c1, c2 in zip(ciphertext[::2], ciphertext[1::2])]\n",
    "\n",
    "    # Decrypt each ciphertext pair\n",
    "    plaintext = \"\"\n",
    "    for pair in ciphertext_pairs:\n",
    "        c1, c2 = pair\n",
    "        # Perform matrix multiplication (K^(-1) × C) mod 26\n",
    "        p1 = (inv_key_matrix[0][0] * c1 + inv_key_matrix[0][1] * c2) % 26\n",
    "        p2 = (inv_key_matrix[1][0] * c1 + inv_key_matrix[1][1] * c2) % 26\n",
    "        # Convert numbers back to letters\n",
    "        plaintext += chr(p1 + ord('A')) + chr(p2 + ord('A'))\n",
    "\n",
    "    return plaintext\n",
    "\n",
    "# Example Usage\n",
    "ciphertext = \"HIOZNX\"\n",
    "key_matrix = [[3, 3], [2, 5]]  # K^(-1) as described in the problem\n",
    "\n",
    "plaintext = hill_decrypt(ciphertext, key_matrix)\n",
    "print(f\"Ciphertext: {ciphertext}\")\n",
    "print(f\"Decrypted Plaintext: {plaintext}\")\n"
   ]
  },
  {
   "cell_type": "markdown",
   "metadata": {},
   "source": [
    "##05 Write a program to implement encryption using Playfair cipher."
   ]
  },
  {
   "cell_type": "code",
   "execution_count": 18,
   "metadata": {},
   "outputs": [
    {
     "name": "stdout",
     "output_type": "stream",
     "text": [
      "Key Square Matrix:\n",
      "K E Y W O\n",
      "R D A B C\n",
      "F G H I L\n",
      "M N P Q S\n",
      "T U V X Z\n",
      "Plaintext: ALAMIN BW MP\n",
      "Ciphertext: CHRPGQIBNQ\n"
     ]
    }
   ],
   "source": [
    "import string\n",
    "\n",
    "def create_key_square(key):\n",
    "    # Step 1: Remove duplicates from the key and convert to uppercase\n",
    "    key = ''.join(sorted(set(key), key=lambda x: key.index(x))).upper()\n",
    "    \n",
    "    # Step 2: Remove any letter that isn't a letter or is 'J' (we will treat 'I' and 'J' as the same letter)\n",
    "    alphabet = string.ascii_uppercase.replace('J', '')  # Alphabet without 'J'\n",
    "    key_square = key + ''.join([letter for letter in alphabet if letter not in key])\n",
    "    \n",
    "    # Create the 5x5 key square matrix\n",
    "    key_matrix = [key_square[i:i+5] for i in range(0, len(key_square), 5)]\n",
    "\n",
    "    # Print the 5x5 key matrix\n",
    "    print(\"Key Square Matrix:\")\n",
    "    for row in key_matrix:\n",
    "        print(\" \".join(row))\n",
    "    return key_matrix\n",
    "    \n",
    "\n",
    "def prepare_plaintext(plaintext):\n",
    "    # Step 3: Remove spaces and convert to uppercase\n",
    "    plaintext = plaintext.replace(' ', '').upper()\n",
    "    \n",
    "    # Step 4: Prepare the plaintext (break into pairs, handle duplicate letters)\n",
    "    prepared_text = []\n",
    "    i = 0\n",
    "    while i < len(plaintext):\n",
    "        # If the next letter is the same, insert a 'Z' in between\n",
    "        if i + 1 < len(plaintext) and plaintext[i] == plaintext[i + 1]:\n",
    "            prepared_text.append(plaintext[i] + 'Z')\n",
    "            i += 1\n",
    "        elif i + 1 < len(plaintext):\n",
    "            prepared_text.append(plaintext[i] + plaintext[i + 1])\n",
    "            i += 2\n",
    "        else:\n",
    "            prepared_text.append(plaintext[i] + 'Z')  # Add 'Z' if the length is odd\n",
    "            i += 1\n",
    "    return prepared_text\n",
    "\n",
    "def find_position(char, key_matrix):\n",
    "    for row in range(5):\n",
    "        for col in range(5):\n",
    "            if key_matrix[row][col] == char:\n",
    "                return row, col\n",
    "    return None\n",
    "\n",
    "\n",
    "def playfair_encrypt(plaintext, key):\n",
    "    key_matrix = create_key_square(key)\n",
    "    prepared_text = prepare_plaintext(plaintext)\n",
    "    \n",
    "    ciphertext = []\n",
    "    \n",
    "    # Step 5: Encrypt each digraph\n",
    "    for digraph in prepared_text:\n",
    "        first_char, second_char = digraph\n",
    "        \n",
    "        # Find positions of each character in the key matrix\n",
    "        row1, col1 = find_position(first_char, key_matrix)\n",
    "        row2, col2 = find_position(second_char, key_matrix)\n",
    "        \n",
    "        # Rule 1: Same row\n",
    "        if row1 == row2:\n",
    "            ciphertext.append(key_matrix[row1][(col1 + 1) % 5])\n",
    "            ciphertext.append(key_matrix[row2][(col2 + 1) % 5])\n",
    "        \n",
    "        # Rule 2: Same column\n",
    "        elif col1 == col2:\n",
    "            ciphertext.append(key_matrix[(row1 + 1) % 5][col1])\n",
    "            ciphertext.append(key_matrix[(row2 + 1) % 5][col2])\n",
    "        \n",
    "        # Rule 3: Rectangle (different row, different column)\n",
    "        else:\n",
    "            ciphertext.append(key_matrix[row1][col2])\n",
    "            ciphertext.append(key_matrix[row2][col1])\n",
    "    \n",
    "    # Join the ciphertext list into a single string\n",
    "    return ''.join(ciphertext)\n",
    "\n",
    "# Example usage:\n",
    "plaintext = \"ALAMIN BW MP\"\n",
    "key = \"KEYWORD\"\n",
    "ciphertext = playfair_encrypt(plaintext, key)\n",
    "print(f\"Plaintext: {plaintext}\")\n",
    "print(f\"Ciphertext: {ciphertext}\")\n"
   ]
  },
  {
   "cell_type": "markdown",
   "metadata": {},
   "source": [
    "##06 Write a program to implement decryption using Playfair cipher."
   ]
  },
  {
   "cell_type": "code",
   "execution_count": 36,
   "metadata": {},
   "outputs": [
    {
     "name": "stdout",
     "output_type": "stream",
     "text": [
      "Ciphertext: CHRPGQIBNQ\n",
      "Key: KEYWORD\n",
      "Plaintext: ALAMINBWMP\n"
     ]
    }
   ],
   "source": [
    "def create_key_square(key):\n",
    "    key = key.upper().replace(\"J\", \"I\")  # Combine I/J\n",
    "    seen = set()\n",
    "    key_square = []\n",
    "\n",
    "    # Add unique characters from the key\n",
    "    for char in key:\n",
    "        if char not in seen and char.isalpha():\n",
    "            seen.add(char)\n",
    "            key_square.append(char)\n",
    "    \n",
    "    # Add remaining letters of the alphabet\n",
    "    alphabet = \"ABCDEFGHIKLMNOPQRSTUVWXYZ\"  # Exclude 'J'\n",
    "    for char in alphabet:\n",
    "        if char not in seen:\n",
    "            key_square.append(char)\n",
    "            seen.add(char)\n",
    "\n",
    "    return [key_square[i:i+5] for i in range(0, len(key_square), 5)]\n",
    "\n",
    "def find_position(char, key_square):\n",
    "    for i, row in enumerate(key_square):\n",
    "        if char in row:\n",
    "            return i, row.index(char)\n",
    "    return -1, -1\n",
    "\n",
    "def decrypt_digraph(digraph, key_square):\n",
    "    row1, col1 = find_position(digraph[0], key_square)\n",
    "    row2, col2 = find_position(digraph[1], key_square)\n",
    "    \n",
    "    # Rule 1: Same row - move left\n",
    "    if row1 == row2:\n",
    "        return key_square[row1][(col1 - 1) % 5] + key_square[row2][(col2 - 1) % 5]\n",
    "    \n",
    "    # Rule 2: Same column - move up\n",
    "    elif col1 == col2:\n",
    "        return key_square[(row1 - 1) % 5][col1] + key_square[(row2 - 1) % 5][col2]\n",
    "    \n",
    "    # Rule 3: Rectangle - swap corners\n",
    "    else:\n",
    "        return key_square[row1][col2] + key_square[row2][col1]\n",
    "\n",
    "def playfair_decrypt(ciphertext, key):\n",
    "    key_square = create_key_square(key)\n",
    "    ciphertext = ciphertext.upper().replace(\" \", \"\")\n",
    "    \n",
    "    # Split ciphertext into digraphs\n",
    "    digraphs = [ciphertext[i:i+2] for i in range(0, len(ciphertext), 2)]\n",
    "    \n",
    "    # Decrypt each digraph\n",
    "    plaintext = ''.join(decrypt_digraph(digraph, key_square) for digraph in digraphs)\n",
    "    \n",
    "    return plaintext\n",
    "\n",
    "# Example Usage\n",
    "ciphertext = \"CHRPGQIBNQ\"\n",
    "key = \"KEYWORD\"\n",
    "\n",
    "plaintext = playfair_decrypt(ciphertext, key)\n",
    "print(f\"Ciphertext: {ciphertext}\")\n",
    "print(f\"Key: {key}\")\n",
    "print(f\"Plaintext: {plaintext}\")\n"
   ]
  },
  {
   "cell_type": "markdown",
   "metadata": {},
   "source": [
    "##07 Write a program to implement encryption using Poly-Alphabetic cipher (Vigenère cipher)."
   ]
  },
  {
   "cell_type": "code",
   "execution_count": 27,
   "metadata": {},
   "outputs": [
    {
     "name": "stdout",
     "output_type": "stream",
     "text": [
      "Plaintext: I LOVE CODING\n",
      "Key: SHE LIKE CATS\n",
      "Ciphertext: ASSGMMSFIGY\n"
     ]
    }
   ],
   "source": [
    "def vigenere_encrypt(plaintext, key):\n",
    "    # Convert plaintext and key to uppercase and remove spaces\n",
    "    plaintext = plaintext.replace(\" \", \"\").upper()\n",
    "    key = key.replace(\" \", \"\").upper()\n",
    "    \n",
    "    # Initialize the ciphertext as an empty string\n",
    "    ciphertext = \"\"\n",
    "    \n",
    "    # Extend the key to match the length of the plaintext\n",
    "    key_extended = (key * (len(plaintext) // len(key))) + key[:len(plaintext) % len(key)]\n",
    "    \n",
    "    # Encrypt each character in the plaintext\n",
    "    for i in range(len(plaintext)):\n",
    "        # Get the position of the plaintext character (A=0, B=1, ..., Z=25)\n",
    "        P_j = ord(plaintext[i]) - ord('A')\n",
    "        \n",
    "        # Get the position of the key character (A=0, B=1, ..., Z=25)\n",
    "        K_j = ord(key_extended[i]) - ord('A')\n",
    "        \n",
    "        # Apply the encryption formula (C_j = (P_j + K_j) % 26)\n",
    "        C_j = (P_j + K_j) % 26\n",
    "        \n",
    "        # Convert the ciphertext position back to a letter\n",
    "        ciphertext += chr(C_j + ord('A'))\n",
    "    \n",
    "    return ciphertext\n",
    "\n",
    "# Example usage:\n",
    "plaintext = \"I LOVE CODING\"\n",
    "key = \"SHE LIKE CATS\"\n",
    "\n",
    "ciphertext = vigenere_encrypt(plaintext, key)\n",
    "\n",
    "print(f\"Plaintext: {plaintext}\")\n",
    "print(f\"Key: {key}\")\n",
    "print(f\"Ciphertext: {ciphertext}\")\n"
   ]
  },
  {
   "cell_type": "markdown",
   "metadata": {},
   "source": [
    "#08 Write a program to implement decryption using Poly-Alphabetic cipher (Vigenère cipher)."
   ]
  },
  {
   "cell_type": "code",
   "execution_count": 28,
   "metadata": {},
   "outputs": [
    {
     "name": "stdout",
     "output_type": "stream",
     "text": [
      "Ciphertext: A SSGM MSFIGY\n",
      "Key: SHE LIKE CATS\n",
      "Plaintext: ILOVECODING\n"
     ]
    }
   ],
   "source": [
    "def vigenere_decrypt(ciphertext, key):\n",
    "    # Convert ciphertext and key to uppercase and remove spaces\n",
    "    ciphertext = ciphertext.replace(\" \", \"\").upper()\n",
    "    key = key.replace(\" \", \"\").upper()\n",
    "    \n",
    "    # Initialize the plaintext as an empty string\n",
    "    plaintext = \"\"\n",
    "    \n",
    "    # Extend the key to match the length of the ciphertext\n",
    "    key_extended = (key * (len(ciphertext) // len(key))) + key[:len(ciphertext) % len(key)]\n",
    "    \n",
    "    # Decrypt each character in the ciphertext\n",
    "    for i in range(len(ciphertext)):\n",
    "        # Get the position of the ciphertext character (A=0, B=1, ..., Z=25)\n",
    "        C_j = ord(ciphertext[i]) - ord('A')\n",
    "        \n",
    "        # Get the position of the key character (A=0, B=1, ..., Z=25)\n",
    "        K_j = ord(key_extended[i]) - ord('A')\n",
    "        \n",
    "        # Apply the decryption formula (P_j = (C_j - K_j) % 26)\n",
    "        P_j = (C_j - K_j) % 26\n",
    "        \n",
    "        # Convert the plaintext position back to a letter\n",
    "        plaintext += chr(P_j + ord('A'))\n",
    "    \n",
    "    return plaintext\n",
    "\n",
    "# Example usage:\n",
    "ciphertext = \"A SSGM MSFIGY\"\n",
    "key = \"SHE LIKE CATS\"\n",
    "\n",
    "plaintext = vigenere_decrypt(ciphertext, key)\n",
    "\n",
    "print(f\"Ciphertext: {ciphertext}\")\n",
    "print(f\"Key: {key}\")\n",
    "print(f\"Plaintext: {plaintext}\")\n"
   ]
  },
  {
   "cell_type": "markdown",
   "metadata": {},
   "source": [
    "##09 Write a program to implement encryption using Vernam cipher."
   ]
  },
  {
   "cell_type": "code",
   "execution_count": 32,
   "metadata": {},
   "outputs": [
    {
     "name": "stdout",
     "output_type": "stream",
     "text": [
      "Plaintext: ABCDE\n",
      "Key: BCDEF\n",
      "Ciphertext: BDBHB\n"
     ]
    }
   ],
   "source": [
    "def char_to_bin(char):\n",
    "    # Convert a character to its corresponding binary value (5 bits, 0 to 25)\n",
    "    return format(ord(char) - ord('A'), '05b')\n",
    "\n",
    "def bin_to_char(binary):\n",
    "    # Convert a 5-bit binary value back to the corresponding character (0 to 25 -> A to Z)\n",
    "    return chr(int(binary, 2) + ord('A'))\n",
    "\n",
    "def xor_encrypt(plaintext, key):\n",
    "    # Ensure plaintext and key are the same length by repeating the key if necessary\n",
    "    plaintext = plaintext.upper().replace(\" \", \"\")\n",
    "    key = key.upper().replace(\" \", \"\")\n",
    "    \n",
    "    # Initialize the ciphertext as an empty string\n",
    "    ciphertext = \"\"\n",
    "    \n",
    "    # XOR each character in the plaintext with the corresponding character in the key\n",
    "    for i in range(len(plaintext)):\n",
    "        # Get the binary representations of the plaintext and key characters\n",
    "        plaintext_bin = char_to_bin(plaintext[i])\n",
    "        key_bin = char_to_bin(key[i % len(key)])  # Repeat the key if necessary\n",
    "        \n",
    "        # XOR the binary values\n",
    "        xor_result = ''.join(['1' if plaintext_bin[j] != key_bin[j] else '0' for j in range(5)])\n",
    "        \n",
    "        # Convert the XOR result back to a character\n",
    "        ciphertext_char = bin_to_char(xor_result)\n",
    "        ciphertext += ciphertext_char\n",
    "        \n",
    "        # Print the details\n",
    "        #print(f\"Plaintext: {plaintext[i]} (Binary: {plaintext_bin})\")\n",
    "        #print(f\"Key: {key[i % len(key)]} (Binary: {key_bin})\")\n",
    "        #print(f\"XOR Result: {xor_result} (Ciphertext: {ciphertext_char})\\n\")\n",
    "    \n",
    "    return ciphertext\n",
    "\n",
    "# Example usage:\n",
    "plaintext = \"ABCDE\"\n",
    "key = \"BCDEF\"\n",
    "\n",
    "ciphertext = xor_encrypt(plaintext, key)\n",
    "print(f\"Plaintext: {plaintext}\")\n",
    "print(f\"Key: {key}\")\n",
    "print(f\"Ciphertext: {ciphertext}\")\n"
   ]
  },
  {
   "cell_type": "markdown",
   "metadata": {},
   "source": [
    "##10 Write a program to implement decryption using Vernam cipher. "
   ]
  },
  {
   "cell_type": "code",
   "execution_count": 35,
   "metadata": {},
   "outputs": [
    {
     "name": "stdout",
     "output_type": "stream",
     "text": [
      "Ciphertext: BDBHB\n",
      "Key: BCDEF\n",
      "Plaintext: ABCDE\n"
     ]
    }
   ],
   "source": [
    "def char_to_bin(char):\n",
    "    # Convert a character to its corresponding binary value (5 bits, 0 to 25)\n",
    "    return format(ord(char) - ord('A'), '05b')\n",
    "\n",
    "def bin_to_char(binary):\n",
    "    # Convert a 5-bit binary value back to the corresponding character (0 to 25 -> A to Z)\n",
    "    return chr(int(binary, 2) + ord('A'))\n",
    "\n",
    "def xor_decrypt(ciphertext, key):\n",
    "    # Ensure ciphertext and key are the same length by repeating the key if necessary\n",
    "    ciphertext = ciphertext.upper().replace(\" \", \"\")\n",
    "    key = key.upper().replace(\" \", \"\")\n",
    "    \n",
    "    # Initialize the plaintext as an empty string\n",
    "    plaintext = \"\"\n",
    "    \n",
    "    # XOR each character in the ciphertext with the corresponding character in the key\n",
    "    for i in range(len(ciphertext)):\n",
    "        # Get the binary representations of the ciphertext and key characters\n",
    "        ciphertext_bin = char_to_bin(ciphertext[i])\n",
    "        key_bin = char_to_bin(key[i % len(key)])  # Repeat the key if necessary\n",
    "        \n",
    "        # XOR the binary values\n",
    "        xor_result = ''.join(['1' if ciphertext_bin[j] != key_bin[j] else '0' for j in range(5)])\n",
    "        \n",
    "        # Convert the XOR result back to a character\n",
    "        plaintext_char = bin_to_char(xor_result)\n",
    "        plaintext += plaintext_char\n",
    "        \n",
    "        # Print the details\n",
    "        #print(f\"Ciphertext: {ciphertext[i]} (Binary: {ciphertext_bin})\")\n",
    "        #print(f\"Key: {key[i % len(key)]} (Binary: {key_bin})\")\n",
    "        #print(f\"XOR Result: {xor_result} (Plaintext: {plaintext_char})\\n\")\n",
    "    \n",
    "    return plaintext\n",
    "\n",
    "# Example usage:\n",
    "ciphertext = \"BDBHB\"\n",
    "key = \"BCDEF\"\n",
    "\n",
    "plaintext = xor_decrypt(ciphertext, key)\n",
    "print(f\"Ciphertext: {ciphertext}\")\n",
    "print(f\"Key: {key}\")\n",
    "print(f\"Plaintext: {plaintext}\")\n"
   ]
  }
 ],
 "metadata": {
  "kernelspec": {
   "display_name": "Python 3",
   "language": "python",
   "name": "python3"
  },
  "language_info": {
   "codemirror_mode": {
    "name": "ipython",
    "version": 3
   },
   "file_extension": ".py",
   "mimetype": "text/x-python",
   "name": "python",
   "nbconvert_exporter": "python",
   "pygments_lexer": "ipython3",
   "version": "3.11.7"
  }
 },
 "nbformat": 4,
 "nbformat_minor": 2
}
